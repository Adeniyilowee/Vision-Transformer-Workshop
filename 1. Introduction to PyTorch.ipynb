{
 "cells": [
  {
   "cell_type": "code",
   "execution_count": null,
   "id": "2989480a-1aee-4dd5-89f1-22a7e986cc8e",
   "metadata": {},
   "outputs": [],
   "source": []
  },
  {
   "cell_type": "code",
   "execution_count": 1,
   "id": "efe45b4c-e4b6-4674-bbf5-6a5bdf6555af",
   "metadata": {
    "tags": []
   },
   "outputs": [],
   "source": [
    "import torch\n",
    "import numpy\n",
    "import torch.nn as nn"
   ]
  },
  {
   "cell_type": "code",
   "execution_count": 2,
   "id": "eb94e84e-59ca-4485-9690-4429b91f8c49",
   "metadata": {
    "tags": []
   },
   "outputs": [],
   "source": [
    "device = 'cuda' if torch.cuda.is_available() else 'cpu'"
   ]
  },
  {
   "cell_type": "code",
   "execution_count": 3,
   "id": "71509311-dd72-42f8-b645-a4784358c3ca",
   "metadata": {},
   "outputs": [],
   "source": [
    "class Rectangle:\n",
    "    \n",
    "    def __init__(self):\n",
    "        self.length = 6\n",
    "        self.width = 4"
   ]
  },
  {
   "cell_type": "code",
   "execution_count": 4,
   "id": "3c203f2b-5a5d-46ce-944a-b9dc71118010",
   "metadata": {},
   "outputs": [
    {
     "name": "stdout",
     "output_type": "stream",
     "text": [
      "24\n"
     ]
    }
   ],
   "source": [
    "class Square(Rectangle):\n",
    "\n",
    "    def __init__(self):\n",
    "        super().__init__()\n",
    "\n",
    "    def area(self):\n",
    "        return self.length * self.width\n",
    "    \n",
    "square = Square()\n",
    "print(square.area())"
   ]
  },
  {
   "cell_type": "code",
   "execution_count": 5,
   "id": "08f7de33-9584-46ab-94d9-348e57918def",
   "metadata": {},
   "outputs": [],
   "source": [
    "class Rectangle:\n",
    "\n",
    "    def __init__(self, con):\n",
    "        self.length = 6 + con\n",
    "        self.width = 4"
   ]
  },
  {
   "cell_type": "code",
   "execution_count": 6,
   "id": "5a28333f-36a9-4139-a319-16b79ad7b3b4",
   "metadata": {},
   "outputs": [
    {
     "name": "stdout",
     "output_type": "stream",
     "text": [
      "52\n"
     ]
    }
   ],
   "source": [
    "class Square(Rectangle):\n",
    "\n",
    "    def __init__(self, con):\n",
    "        super().__init__(con)\n",
    "\n",
    "    def area(self):\n",
    "        return self.length*self.width\n",
    "    \n",
    "    \n",
    "    \n",
    "square = Square(7)\n",
    "print(square.area())"
   ]
  },
  {
   "cell_type": "code",
   "execution_count": 7,
   "id": "4997adcd-8ef5-487c-8470-d06e6273379b",
   "metadata": {},
   "outputs": [
    {
     "name": "stdout",
     "output_type": "stream",
     "text": [
      "120\n"
     ]
    }
   ],
   "source": [
    "class Cube(Rectangle):\n",
    "\n",
    "    def __init__(self, height, con): \n",
    "        super().__init__(con)\n",
    "        self.height = height\n",
    "\n",
    "    def volume(self):\n",
    "        return self.length*self.width*self.height\n",
    "\n",
    "\n",
    "cube = Cube(height=3, con=4)\n",
    "print(cube.volume())"
   ]
  },
  {
   "cell_type": "code",
   "execution_count": 8,
   "id": "db47d447-a668-479e-a735-70a0fa034614",
   "metadata": {},
   "outputs": [],
   "source": [
    "# PyTorch Model Example\n",
    "\n",
    "class Classification(nn.Module):\n",
    "    \n",
    "    def __init__(self, input_shape: int, hidden_units: int, output_shape: int):\n",
    "        super().__init__()\n",
    "        \n",
    "        self.layer_1 = nn.Linear(in_features=input_shape, out_features=hidden_units)\n",
    "        self.layer_2 = nn.Linear(in_features=hidden_units, out_features=hidden_units)\n",
    "        self.activation = nn.ReLU()\n",
    "        self.classifier = nn.Linear(in_features=hidden_units, out_features=output_shape)\n",
    "        \n",
    "    def forward(self, x):\n",
    "        x = self.layer_1(x)\n",
    "        x = self.layer_2(x)\n",
    "        x = self.activation(x)\n",
    "        x = self.classifier(x)\n",
    "        return x"
   ]
  },
  {
   "cell_type": "code",
   "execution_count": 9,
   "id": "d373be01-63f3-4c13-a8da-14adb22c5510",
   "metadata": {},
   "outputs": [],
   "source": [
    "data = torch.tensor([2.,1.,10.])\n",
    "model = Classification(3, 4, 1)"
   ]
  },
  {
   "cell_type": "code",
   "execution_count": 10,
   "id": "d8588a8d-2edd-44a8-812b-94b7cf9b76a6",
   "metadata": {},
   "outputs": [
    {
     "data": {
      "text/plain": [
       "tensor([-0.5622], grad_fn=<ViewBackward0>)"
      ]
     },
     "execution_count": 10,
     "metadata": {},
     "output_type": "execute_result"
    }
   ],
   "source": [
    "model(data)"
   ]
  },
  {
   "cell_type": "code",
   "execution_count": null,
   "id": "7a32bdca-eb48-4b39-9a76-b58f8262f2e0",
   "metadata": {},
   "outputs": [],
   "source": []
  }
 ],
 "metadata": {
  "kernelspec": {
   "display_name": "Python 3 (ipykernel)",
   "language": "python",
   "name": "python3"
  },
  "language_info": {
   "codemirror_mode": {
    "name": "ipython",
    "version": 3
   },
   "file_extension": ".py",
   "mimetype": "text/x-python",
   "name": "python",
   "nbconvert_exporter": "python",
   "pygments_lexer": "ipython3",
   "version": "3.9.18"
  }
 },
 "nbformat": 4,
 "nbformat_minor": 5
}
